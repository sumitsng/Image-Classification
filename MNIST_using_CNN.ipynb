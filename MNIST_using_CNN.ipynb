{
  "nbformat": 4,
  "nbformat_minor": 0,
  "metadata": {
    "colab": {
      "name": "Copy of mnist_mln.ipynb",
      "provenance": [],
      "collapsed_sections": [],
      "include_colab_link": true
    },
    "language_info": {
      "codemirror_mode": {
        "name": "ipython",
        "version": 3
      },
      "file_extension": ".py",
      "mimetype": "text/x-python",
      "name": "python",
      "nbconvert_exporter": "python",
      "pygments_lexer": "ipython3",
      "version": "3.6.8"
    },
    "kernelspec": {
      "name": "python3",
      "display_name": "Python 3"
    },
    "accelerator": "GPU"
  },
  "cells": [
    {
      "cell_type": "markdown",
      "metadata": {
        "id": "view-in-github",
        "colab_type": "text"
      },
      "source": [
        "<a href=\"https://colab.research.google.com/github/sumitsng/Image-Classification/blob/master/MNIST_using_CNN.ipynb\" target=\"_parent\"><img src=\"https://colab.research.google.com/assets/colab-badge.svg\" alt=\"Open In Colab\"/></a>"
      ]
    },
    {
      "cell_type": "markdown",
      "metadata": {
        "id": "TK63XfOLlatt",
        "colab_type": "text"
      },
      "source": [
        "# Classification of handwritten digits using Multi Layered Network"
      ]
    },
    {
      "cell_type": "markdown",
      "metadata": {
        "id": "qNT0PLBslatv",
        "colab_type": "text"
      },
      "source": [
        "# MNIST Dataset\n",
        "\n",
        "<img src=\"https://upload.wikimedia.org/wikipedia/commons/2/27/MnistExamples.png\" title=\"MNIST dataset\" align=\"center\"/>\n",
        "\n"
      ]
    },
    {
      "cell_type": "markdown",
      "metadata": {
        "id": "Q2bWo4Rglatw",
        "colab_type": "text"
      },
      "source": [
        "# Problem\n",
        "Classify handwritten digits from 0 - 9. <br>\n",
        "Each image is 28x28 pixels\n",
        "\n",
        "<img src=\"https://corochann.com/wp-content/uploads/2017/02/mnist_plot.png\" title=\"\" align=\"center\"/>\n"
      ]
    },
    {
      "cell_type": "markdown",
      "metadata": {
        "id": "WEFQKMvslaty",
        "colab_type": "text"
      },
      "source": [
        "# Understanding the data"
      ]
    },
    {
      "cell_type": "code",
      "metadata": {
        "id": "hgu5_Pb5latz",
        "colab_type": "code",
        "outputId": "fbf4346c-88fb-4d2c-c1a1-ae786515e5f5",
        "colab": {
          "base_uri": "https://localhost:8080/",
          "height": 35
        }
      },
      "source": [
        "# MNIST data is present in the keras library. Load the data using load_data function of mnist\n",
        "# Load the data into 4 variables - train_samples, train_labels, test_samples, test_labels\n",
        "from keras.datasets import mnist\n",
        "import tensorflow as tf\n",
        "(train_samples, train_labels), (test_samples, test_labels) = tf.keras.datasets.mnist.load_data()\n",
        "print(mnist)"
      ],
      "execution_count": 7,
      "outputs": [
        {
          "output_type": "stream",
          "text": [
            "<module 'keras.datasets.mnist' from '/usr/local/lib/python3.6/dist-packages/keras/datasets/mnist.py'>\n"
          ],
          "name": "stdout"
        }
      ]
    },
    {
      "cell_type": "markdown",
      "metadata": {
        "id": "F4oX3yVhlat9",
        "colab_type": "text"
      },
      "source": [
        "### Shape of Data"
      ]
    },
    {
      "cell_type": "code",
      "metadata": {
        "id": "28tB-a3Jlat_",
        "colab_type": "code",
        "outputId": "54fc5fa8-f472-4ab7-8ff2-1ea4df50ade3",
        "colab": {
          "base_uri": "https://localhost:8080/",
          "height": 35
        }
      },
      "source": [
        "## Print and observe the shapes of the 4 variables - train_samples, train_labels, test_samples, test_labels\n",
        "\n",
        "train_samples.shape ,train_labels.shape, test_samples.shape ,test_labels.shape"
      ],
      "execution_count": 8,
      "outputs": [
        {
          "output_type": "execute_result",
          "data": {
            "text/plain": [
              "((60000, 28, 28), (60000,), (10000, 28, 28), (10000,))"
            ]
          },
          "metadata": {
            "tags": []
          },
          "execution_count": 8
        }
      ]
    },
    {
      "cell_type": "markdown",
      "metadata": {
        "id": "3GRKi2A6lauD",
        "colab_type": "text"
      },
      "source": [
        "### Range of Values\n",
        "Look at the range of values"
      ]
    },
    {
      "cell_type": "code",
      "metadata": {
        "id": "Yfq7vbrFlauE",
        "colab_type": "code",
        "outputId": "f22e827a-cbed-4bfc-c6cb-d272437217a4",
        "colab": {
          "base_uri": "https://localhost:8080/",
          "height": 35
        }
      },
      "source": [
        "import numpy as np\n",
        "### Print max value of samples in train_samples\n",
        "train_samples.max()"
      ],
      "execution_count": 9,
      "outputs": [
        {
          "output_type": "execute_result",
          "data": {
            "text/plain": [
              "255"
            ]
          },
          "metadata": {
            "tags": []
          },
          "execution_count": 9
        }
      ]
    },
    {
      "cell_type": "code",
      "metadata": {
        "id": "000kF9g2lauM",
        "colab_type": "code",
        "outputId": "70507e2b-980c-477e-9625-7483cd341a87",
        "colab": {
          "base_uri": "https://localhost:8080/",
          "height": 35
        }
      },
      "source": [
        "### Print min values of samples in train_samples\n",
        "train_samples.min()\n"
      ],
      "execution_count": 10,
      "outputs": [
        {
          "output_type": "execute_result",
          "data": {
            "text/plain": [
              "0"
            ]
          },
          "metadata": {
            "tags": []
          },
          "execution_count": 10
        }
      ]
    },
    {
      "cell_type": "markdown",
      "metadata": {
        "id": "Ouqsup_JlauT",
        "colab_type": "text"
      },
      "source": [
        "# Data Preparation"
      ]
    },
    {
      "cell_type": "markdown",
      "metadata": {
        "id": "BRRuFd7ylauV",
        "colab_type": "text"
      },
      "source": [
        "### Normalize inputs to (0, 1)"
      ]
    },
    {
      "cell_type": "code",
      "metadata": {
        "id": "r372iDHylauW",
        "colab_type": "code",
        "colab": {}
      },
      "source": [
        "# Convert data type of elements in train_samples and test_samples from uint8 to float32\n",
        "train_samples=train_samples.astype('float32')\n",
        "test_samples=test_samples.astype('float32')"
      ],
      "execution_count": 0,
      "outputs": []
    },
    {
      "cell_type": "code",
      "metadata": {
        "id": "yGwZxgZ4laup",
        "colab_type": "code",
        "colab": {}
      },
      "source": [
        "# Normalize inputs to (0,1)\n",
        "# Divide train_samples and test_samples by max value of train_samples\n",
        "train_samples/=255\n",
        "test_samples/=255\n"
      ],
      "execution_count": 0,
      "outputs": []
    },
    {
      "cell_type": "markdown",
      "metadata": {
        "id": "t8riXpfTlauv",
        "colab_type": "text"
      },
      "source": [
        "### Convert outputs to 1-hot vectors"
      ]
    },
    {
      "cell_type": "code",
      "metadata": {
        "id": "rbzm9RHplauv",
        "colab_type": "code",
        "colab": {}
      },
      "source": [
        "# convert train_labels and test_labels to 1-hot encoding\n",
        "def one_hot_vector(Index):\n",
        "  A = np.zeros(10)\n",
        "  A[Index] = 1 \n",
        "  return A\n",
        "def one_hot_coding( label_list):\n",
        "  A = np.empty((1,10))\n",
        "  for index in label_list:\n",
        "    tmp = one_hot_vector(index).reshape(1,10)\n",
        "    A = np.concatenate((A,tmp ), axis = 0)\n",
        "  A = np.delete(A ,0 ,0)\n",
        "  return np.array(A)\n",
        "\n",
        "labelTrain = one_hot_coding(train_labels)\n",
        "labelTest = one_hot_coding(test_labels)"
      ],
      "execution_count": 0,
      "outputs": []
    },
    {
      "cell_type": "markdown",
      "metadata": {
        "id": "87UOZ46Slauz",
        "colab_type": "text"
      },
      "source": [
        "# Network Architecture"
      ]
    },
    {
      "cell_type": "code",
      "metadata": {
        "id": "90vaFUaDlau0",
        "colab_type": "code",
        "colab": {
          "base_uri": "https://localhost:8080/",
          "height": 35
        },
        "outputId": "6c8a4394-e84d-4420-888d-00975e996b22"
      },
      "source": [
        "## Input is currently in the shape (samples, height, width)\n",
        "## Reshape it such that it is suitable to be fed into a feed forward network\n",
        "\n",
        "train = train_samples.reshape(-1,28,28,1)\n",
        "test = test_samples.reshape(-1,28,28,1)\n",
        "print(train.shape, test.shape)\n"
      ],
      "execution_count": 18,
      "outputs": [
        {
          "output_type": "stream",
          "text": [
            "(60000, 28, 28, 1) (10000, 28, 28, 1)\n"
          ],
          "name": "stdout"
        }
      ]
    },
    {
      "cell_type": "code",
      "metadata": {
        "id": "T_rgk12rlau2",
        "colab_type": "code",
        "colab": {
          "base_uri": "https://localhost:8080/",
          "height": 88
        },
        "outputId": "83ba2c4e-e032-418f-9312-f1eaecbe5f39"
      },
      "source": [
        "# Layer definitions\n",
        "##Create a multi-layered neural network\n",
        "## 1st hidden layer with 512 neurons and 'relu' activation\n",
        "## 2nd hidden layer with 256 neurons and 'relu' activation\n",
        "## Output layer with softmax activation\n",
        "### Use Adam optimizer of keras\n",
        "### Categorical cross entropy is loss\n",
        "\n",
        "from keras.layers import Input, Dense\n",
        "from keras.models import Sequential\n",
        "from keras.layers import Convolution2D\n",
        "from keras.layers import MaxPooling2D\n",
        "from keras.layers import Flatten\n",
        "from keras.layers import Dense \n",
        "model = Sequential()\n",
        "model.add(Convolution2D(32,3,2,activation='relu',input_shape = (28,28,1), use_bias= True,))\n",
        "model.add(MaxPooling2D(3,1))\n",
        "model.add(Convolution2D(64,2,1,activation='relu',use_bias=True))\n",
        "model.add(Flatten())\n",
        "model.add(Dense(units=10, activation='softmax'))\n",
        "model.compile(optimizer= 'adam' , loss = 'categorical_crossentropy' , metrics = ['accuracy'])\n"
      ],
      "execution_count": 15,
      "outputs": [
        {
          "output_type": "stream",
          "text": [
            "/usr/local/lib/python3.6/dist-packages/ipykernel_launcher.py:9: UserWarning: Update your `Conv2D` call to the Keras 2 API: `Conv2D(32, (3, 2), activation=\"relu\", input_shape=(28, 28, 1..., use_bias=True)`\n",
            "  if __name__ == '__main__':\n",
            "/usr/local/lib/python3.6/dist-packages/ipykernel_launcher.py:11: UserWarning: Update your `Conv2D` call to the Keras 2 API: `Conv2D(64, (2, 1), activation=\"relu\", use_bias=True)`\n",
            "  # This is added back by InteractiveShellApp.init_path()\n"
          ],
          "name": "stderr"
        }
      ]
    },
    {
      "cell_type": "code",
      "metadata": {
        "scrolled": true,
        "id": "0hxa9dVPlau5",
        "colab_type": "code",
        "colab": {
          "base_uri": "https://localhost:8080/",
          "height": 337
        },
        "outputId": "4798a1d4-e34d-4759-a5d1-e22414737972"
      },
      "source": [
        "### Print summary of model and check if it is as desired. Also check total number of parameters to be trained.\n",
        "model.summary()"
      ],
      "execution_count": 16,
      "outputs": [
        {
          "output_type": "stream",
          "text": [
            "Model: \"sequential_1\"\n",
            "_________________________________________________________________\n",
            "Layer (type)                 Output Shape              Param #   \n",
            "=================================================================\n",
            "conv2d_1 (Conv2D)            (None, 26, 27, 32)        224       \n",
            "_________________________________________________________________\n",
            "max_pooling2d_1 (MaxPooling2 (None, 24, 25, 32)        0         \n",
            "_________________________________________________________________\n",
            "conv2d_2 (Conv2D)            (None, 23, 25, 64)        4160      \n",
            "_________________________________________________________________\n",
            "flatten_1 (Flatten)          (None, 36800)             0         \n",
            "_________________________________________________________________\n",
            "dense_1 (Dense)              (None, 10)                368010    \n",
            "=================================================================\n",
            "Total params: 372,394\n",
            "Trainable params: 372,394\n",
            "Non-trainable params: 0\n",
            "_________________________________________________________________\n"
          ],
          "name": "stdout"
        }
      ]
    },
    {
      "cell_type": "code",
      "metadata": {
        "scrolled": true,
        "id": "MmKoxeTqlau7",
        "colab_type": "code",
        "outputId": "82d9edcb-8eb4-4e63-facc-c1e6428429fb",
        "colab": {
          "base_uri": "https://localhost:8080/",
          "height": 408
        }
      },
      "source": [
        "### Fit the model on train samples. Play with different values of epochs and batch_size. \n",
        "### See which gives the optimal result in the least amount of time.\n",
        "model.fit( x = train , y = labelTrain , batch_size= 1000, epochs = 10 , verbose = 1  , validation_data = (test , labelTest), shuffle= True )\n"
      ],
      "execution_count": 19,
      "outputs": [
        {
          "output_type": "stream",
          "text": [
            "Train on 60000 samples, validate on 10000 samples\n",
            "Epoch 1/10\n",
            "60000/60000 [==============================] - 9s 156us/step - loss: 0.4786 - accuracy: 0.8637 - val_loss: 0.1677 - val_accuracy: 0.9527\n",
            "Epoch 2/10\n",
            "60000/60000 [==============================] - 3s 51us/step - loss: 0.1163 - accuracy: 0.9668 - val_loss: 0.0766 - val_accuracy: 0.9777\n",
            "Epoch 3/10\n",
            "60000/60000 [==============================] - 3s 51us/step - loss: 0.0741 - accuracy: 0.9786 - val_loss: 0.0575 - val_accuracy: 0.9823\n",
            "Epoch 4/10\n",
            "60000/60000 [==============================] - 3s 50us/step - loss: 0.0592 - accuracy: 0.9829 - val_loss: 0.0551 - val_accuracy: 0.9815\n",
            "Epoch 5/10\n",
            "60000/60000 [==============================] - 3s 51us/step - loss: 0.0498 - accuracy: 0.9852 - val_loss: 0.0487 - val_accuracy: 0.9842\n",
            "Epoch 6/10\n",
            "60000/60000 [==============================] - 3s 51us/step - loss: 0.0439 - accuracy: 0.9871 - val_loss: 0.0467 - val_accuracy: 0.9850\n",
            "Epoch 7/10\n",
            "60000/60000 [==============================] - 3s 51us/step - loss: 0.0397 - accuracy: 0.9881 - val_loss: 0.0465 - val_accuracy: 0.9840\n",
            "Epoch 8/10\n",
            "60000/60000 [==============================] - 3s 51us/step - loss: 0.0350 - accuracy: 0.9898 - val_loss: 0.0467 - val_accuracy: 0.9845\n",
            "Epoch 9/10\n",
            "60000/60000 [==============================] - 3s 50us/step - loss: 0.0327 - accuracy: 0.9901 - val_loss: 0.0425 - val_accuracy: 0.9869\n",
            "Epoch 10/10\n",
            "60000/60000 [==============================] - 3s 51us/step - loss: 0.0288 - accuracy: 0.9918 - val_loss: 0.0422 - val_accuracy: 0.9865\n"
          ],
          "name": "stdout"
        },
        {
          "output_type": "execute_result",
          "data": {
            "text/plain": [
              "<keras.callbacks.callbacks.History at 0x7f540010ecf8>"
            ]
          },
          "metadata": {
            "tags": []
          },
          "execution_count": 19
        }
      ]
    },
    {
      "cell_type": "code",
      "metadata": {
        "id": "fOCA_D_glau-",
        "colab_type": "code",
        "colab": {
          "base_uri": "https://localhost:8080/",
          "height": 52
        },
        "outputId": "98d2fd6a-a356-4f42-fa6e-2106c431f45d"
      },
      "source": [
        "##Evaluate the model on test samples and print accuracy\n",
        "loss , accuracy = model.evaluate(x = test , y = labelTest , batch_size= 1000)\n",
        "print(loss , accuracy)"
      ],
      "execution_count": 20,
      "outputs": [
        {
          "output_type": "stream",
          "text": [
            "10000/10000 [==============================] - 0s 21us/step\n",
            "0.04222300760447979 0.9865000247955322\n"
          ],
          "name": "stdout"
        }
      ]
    },
    {
      "cell_type": "code",
      "metadata": {
        "id": "hEzHuhOKlavB",
        "colab_type": "code",
        "colab": {
          "base_uri": "https://localhost:8080/",
          "height": 195
        },
        "outputId": "ea580f2c-c9ce-4c2f-d35a-ae08c4b43627"
      },
      "source": [
        "### Print confusion matrix\n",
        "Y_pred= model.predict(test)\n",
        "from sklearn.metrics import confusion_matrix\n",
        "print( confusion_matrix(labelTest.argmax(axis=1), Y_pred.argmax(axis=1)) )"
      ],
      "execution_count": 23,
      "outputs": [
        {
          "output_type": "stream",
          "text": [
            "[[ 973    0    2    0    0    1    1    1    1    1]\n",
            " [   0 1132    1    2    0    0    0    0    0    0]\n",
            " [   3    3 1013    0    1    0    2    7    2    1]\n",
            " [   1    0    3  993    0    5    0    3    4    1]\n",
            " [   0    0    0    0  976    0    1    1    0    4]\n",
            " [   2    0    1    3    0  883    2    1    0    0]\n",
            " [   9    2    1    0    1    3  941    0    1    0]\n",
            " [   0    1   10    1    0    1    0 1013    1    1]\n",
            " [   5    0    2    0    0    2    1    4  955    5]\n",
            " [   2    2    0    1    7    3    0    7    1  986]]\n"
          ],
          "name": "stdout"
        }
      ]
    }
  ]
}